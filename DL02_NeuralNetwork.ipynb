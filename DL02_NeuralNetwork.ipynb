{
 "cells": [
  {
   "cell_type": "markdown",
   "metadata": {
    "collapsed": true
   },
   "source": [
    "1. 활성화 함수의 비교"
   ]
  },
  {
   "cell_type": "code",
   "execution_count": 6,
   "metadata": {},
   "outputs": [
    {
     "data": {
      "image/png": "[encoded data removed]",
      "text/plain": [
       "<matplotlib.figure.Figure at 0x15f3cbf1da0>"
      ]
     },
     "metadata": {},
     "output_type": "display_data"
    }
   ],
   "source": [
    "#계단형 함수\n",
    "def step_function_old(x):\n",
    "    if x > 0:\n",
    "        return 1\n",
    "    else:\n",
    "        return 0\n",
    "    \n",
    "#넘파이 배열 지원 계단형 함수(넘파이 트릭 활용 함수)\n",
    "import numpy as np\n",
    "import matplotlib.pylab as plt\n",
    "def step_function_1st(x):\n",
    "    y = x > 0 #넘파이 부등호 연산을 수행하면, 원소 각각의 비교 결과(True/False) bool배열을 반환\n",
    "    return y.astype(np.int) #배열의 자료형을 np.int로 변경(True=>1, False=>0)\n",
    "\n",
    "#계단함수 그래프 확인\n",
    "def step_function(x):\n",
    "    return np.array(x > 0, dtype=np.int)\n",
    "\n",
    "x = np.arange(-5.0, 5.0, 0.1) #-5.0 에서 5.0 전 까지의 0.1간격의 넘파이 배열 생성\n",
    "y = step_function(x)\n",
    "plt.plot(x, y)\n",
    "plt.ylim(-0.1, 1.1)\n",
    "plt.show() #0을 경계로 출력이 0<->1로 변경 됨"
   ]
  },
  {
   "cell_type": "code",
   "execution_count": 18,
   "metadata": {},
   "outputs": [
    {
     "data": {
      "image/png": "[encoded data removed]",
      "text/plain": [
       "<matplotlib.figure.Figure at 0x15f3db5aa20>"
      ]
     },
     "metadata": {},
     "output_type": "display_data"
    }
   ],
   "source": [
    "#시그모이드 함수\n",
    "def sigmoid(x): #시그모이드란 'S자 모양'이라는 뜻. 계단형 함수처럼 생긴 모양에서 유래.\n",
    "    return 1 / (1 + np.exp(-x)) #exp = 2.7182...의 실수값을 갖는 자연상수\n",
    "\n",
    "x = np.arange(-5.0, 5.0, 1.0)\n",
    "y = sigmoid(x) #넘파이 브로드캐스트 기능에 의해 각 원소 모두 연산처리가 진행된다.\n",
    "plt.plot(x, y)\n",
    "plt.ylim(-0.1, 1,1)\n",
    "plt.show()\n",
    "\n",
    "#퍼셉트론에서는 뉴런 사이에 0 또는 1이 흐른다면, 신경망에서는 연속적인 실수가 흐른다.\n",
    "#공통점: 입력값의 중요도에 따른 출력값 변화. 출력은 0과 1 사이. 비선형 함수.\n",
    "#선형 함수는 합성(은닉층)의 이점을 살릴 수 없다. 다층 구조의 이점을 활용하려면 활성화 함수는 반드시 비선형."
   ]
  },
  {
   "cell_type": "code",
   "execution_count": 21,
   "metadata": {},
   "outputs": [
    {
     "data": {
      "image/png": "[encoded data removed]",
      "text/plain": [
       "<matplotlib.figure.Figure at 0x15f3dbb7908>"
      ]
     },
     "metadata": {},
     "output_type": "display_data"
    }
   ],
   "source": [
    "#ReLU(Rectified Linear Unit) 함수\n",
    "#최근 주로 이용되는 함수. 0이 넘으면 입력값 그대로 출력, 0 이하면 0을 출력.\n",
    "#Rectified(정류된)에서 유래. 0 이하의 값을 차단한다는 의미.\n",
    "def relu(x):\n",
    "    return np.maximum(0, x) #maximum은 두 입력 중 큰 값을 선택하여 반환하는 함수\n",
    "\n",
    "x = np.arange(-5.0, 5.0, 0.1) #-5.0 에서 5.0 전 까지의 0.1간격의 넘파이 배열 생성\n",
    "y = relu(x)\n",
    "plt.plot(x, y)\n",
    "plt.ylim(-1, 5)\n",
    "plt.show() #0을 경계로 출력이 0<->1로 변경 됨"
   ]
  },
  {
   "cell_type": "markdown",
   "metadata": {},
   "source": [
    "2. 다차원 배열의 계산"
   ]
  },
  {
   "cell_type": "code",
   "execution_count": 25,
   "metadata": {},
   "outputs": [
    {
     "name": "stdout",
     "output_type": "stream",
     "text": [
      "[[1 2]\n [3 4]\n [5 6]]\n2\n(3, 2)\n"
     ]
    }
   ],
   "source": [
    "#다차원 배열\n",
    "A = np.array([[1, 2], [3, 4], [5, 6]])\n",
    "print(A)\n",
    "print(np.ndim(A)) #배열의 차원 수. 2차원 배열은 행열이라고 부름.\n",
    "print(A.shape) #배열의 형상(튜플로 반환됨에 유의)"
   ]
  },
  {
   "cell_type": "code",
   "execution_count": 27,
   "metadata": {},
   "outputs": [
    {
     "name": "stdout",
     "output_type": "stream",
     "text": [
      "[ 5 11 17]\n"
     ]
    }
   ],
   "source": [
    "#행렬의 내적(행렬 곱)\n",
    "#교환법칙 미성립에 유의!\n",
    "X = np.array([1, 2]) #1X2\n",
    "W = np.array([[1, 3, 5], [2, 4, 6]]) #2X3\n",
    "Y = np.dot(X, W) #1X3\n",
    "print(Y)"
   ]
  },
  {
   "cell_type": "markdown",
   "metadata": {},
   "source": [
    "3. 3층 신경망 구현"
   ]
  },
  {
   "cell_type": "code",
   "execution_count": 29,
   "metadata": {},
   "outputs": [
    {
     "name": "stdout",
     "output_type": "stream",
     "text": [
      "[0.31682708 0.69627909]\n"
     ]
    }
   ],
   "source": [
    "#입력 ->1층\n",
    "X = np.array([1.0, 0.5]) #입력 신호\n",
    "W1 = np.array([[0.1, 0.3, 0.5], [0.2, 0.4, 0.6]]) #가중치\n",
    "B1 = np.array([0.1, 0.2, 0.3]) #편향\n",
    "A1 = np.dot(X, W1) + B1 # A1 뉴런의 가중치 합(가중 신호와 편향의 총 합) a\n",
    "Z1 = sigmoid(A1) # A1 뉴런의 활성함수(h)로 시그모이드 함수를 사용, 변환된 신호 z\n",
    "#1층 -> 2층\n",
    "W2 = np.array([[0.1, 0.4], [0.2, 0.5], [0.3, 0.6]])\n",
    "B2 = np.array([0.1, 0.2])\n",
    "A2 = np.dot(Z1, W2) + B2\n",
    "Z2 = sigmoid(A2)\n",
    "#2층 -> 출력(활성화 함수만 다름. 출력단의 활성화함수는 문제의 성질에 따라 다르게 정함)\n",
    "def identity_function(x): #항등함수(회기), 시그모이드(이진분류), 소프트맥스(다중 클래스 분류)\n",
    "    return x\n",
    "W3 = np.array([[0.1, 0.3], [0.2, 0.4]])\n",
    "B3 = np.array([0.1, 0.2])\n",
    "A3 = np.dot(Z2, W3) + B3\n",
    "Y = identity_function(A3)\n",
    "print(Y)"
   ]
  },
  {
   "cell_type": "markdown",
   "metadata": {},
   "source": [
    "3-2 3층 신경망 구현 정리"
   ]
  },
  {
   "cell_type": "code",
   "execution_count": 33,
   "metadata": {},
   "outputs": [
    {
     "name": "stdout",
     "output_type": "stream",
     "text": [
      "[0.31682708 0.69627909]\n"
     ]
    }
   ],
   "source": [
    "def init_network():\n",
    "    network = {}\n",
    "    network['W1'] = np.array([[0.1, 0.3, 0.5], [0.2, 0.4, 0.6]])\n",
    "    network['W2'] = np.array([[0.1, 0.4], [0.2, 0.5], [0.3, 0.6]])\n",
    "    network['W3'] = np.array([[0.1, 0.3], [0.2, 0.4]])\n",
    "    network['b1'] = np.array([0.1, 0.2, 0.3])\n",
    "    network['b2'] = np.array([0.1, 0.2])\n",
    "    network['b3'] = np.array([0.1, 0.2])\n",
    "    return network\n",
    "\n",
    "def forward(network, x):\n",
    "    W1, W2, W3 = network['W1'], network['W2'], network['W3']\n",
    "    b1, b2, b3 = network['b1'], network['b2'], network['b3']    \n",
    "    a1 = np.dot(x, W1) + b1\n",
    "    z1 = sigmoid(a1)\n",
    "    a2 = np.dot(z1, W2) + b2\n",
    "    z2 = sigmoid(a2)\n",
    "    a3 = np.dot(z2, W3) + b3\n",
    "    y = identity_function(a3)\n",
    "    return y\n",
    "\n",
    "network = init_network()\n",
    "x = np.array([1.0, 0.5])\n",
    "y = forward(network, x)\n",
    "print(y)"
   ]
  },
  {
   "cell_type": "code",
   "execution_count": null,
   "metadata": {},
   "outputs": [],
   "source": []
  }
 ],
 "metadata": {
  "kernelspec": {
   "display_name": "Python 2",
   "language": "python",
   "name": "python2"
  },
  "language_info": {
   "codemirror_mode": {
    "name": "ipython",
    "version": 2
   },
   "file_extension": ".py",
   "mimetype": "text/x-python",
   "name": "python",
   "nbconvert_exporter": "python",
   "pygments_lexer": "ipython2",
   "version": "2.7.6"
  }
 },
 "nbformat": 4,
 "nbformat_minor": 0
}
