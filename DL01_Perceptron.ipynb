{
 "cells": [
  {
   "cell_type": "code",
   "execution_count": 2,
   "metadata": {
    "collapsed": true
   },
   "outputs": [
    {
     "name": "stdout",
     "output_type": "stream",
     "text": [
      "0\n0\n0\n1\n"
     ]
    }
   ],
   "source": [
    "def AND(x1, x2):\n",
    "    w1, w2, theta = 0.5, 0.5, 0.7\n",
    "    tmp = x1*w1 + x2*w2\n",
    "    if tmp <= theta:\n",
    "        return 0\n",
    "    elif tmp > theta:\n",
    "        return 1\n",
    "    \n",
    "print(AND(0, 0))\n",
    "print(AND(1, 0))\n",
    "print(AND(0, 1))\n",
    "print(AND(1, 1))"
   ]
  },
  {
   "cell_type": "code",
   "execution_count": 4,
   "metadata": {},
   "outputs": [
    {
     "name": "stdout",
     "output_type": "stream",
     "text": [
      "[0.  0.5]\n0.5\n-0.19999999999999996\n"
     ]
    }
   ],
   "source": [
    "import numpy as np\n",
    "x = np.array([0, 1]) #입력\n",
    "w = np.array([0.5, 0.5]) #가중치\n",
    "b = -0.7 #편향(임계값 치환의 결과로, 의미는 동일)\n",
    "print(x*w)\n",
    "print(np.sum(x*w))\n",
    "print(np.sum(w*x)+b)"
   ]
  },
  {
   "cell_type": "code",
   "execution_count": 5,
   "metadata": {},
   "outputs": [
    {
     "name": "stdout",
     "output_type": "stream",
     "text": [
      "0\n1\n1\n0\n"
     ]
    }
   ],
   "source": [
    "def AND(x1, x2):\n",
    "    x = np.array([x1, x2])\n",
    "    w = np.array([0.5, 0.5]) #가중치. 각 입력 신호가 결과에 주는 영향력(중요도)\n",
    "    b = -0.7 #편향. 뉴런이 얼마나 쉽게 활성화(1을 출력)되느냐를 조정하는 매개변수\n",
    "    tmp = np.sum(x*w) + b\n",
    "    if tmp <= 0:\n",
    "        return 0\n",
    "    else:\n",
    "        return 1\n",
    "    \n",
    "def NAND(x1, x2):\n",
    "    #NAND는 AND와 반대의 결과를 출력\n",
    "    x = np.array([x1, x2])\n",
    "    w = np.array([-0.5, -0.5]) #AND와는 가중치(w,b)만 다르다.\n",
    "    b = 0.7\n",
    "    tmp = np.sum(x*w) + b\n",
    "    if tmp <= 0:\n",
    "        return 0\n",
    "    else:\n",
    "        return 1\n",
    "\n",
    "def OR(x1, x2):\n",
    "    x = np.array([x1, x2])\n",
    "    w = np.array([0.5, 0.5]) #AND와는 가중치(w,b)만 다르다.\n",
    "    b = -0.2\n",
    "    tmp = np.sum(x*w) + b\n",
    "    if tmp <= 0:\n",
    "        return 0\n",
    "    else:\n",
    "        return 1\n",
    "#XOR는 배타적 논리합으로, 서로 다를 때 1 출력\n",
    "#(단층)퍼셉트론은 XOR와 같은 비선형 분포를 나눌 수 없다.(퍼셉트론=선형)\n",
    "#다층 퍼셉트론으로 극복이 가능!\n",
    "\n",
    "def XOR(x1, x2):\n",
    "    s1 = NAND(x1, x2)\n",
    "    s2 = OR(x1, x2)\n",
    "    y = AND(s1, s2)\n",
    "    return y\n",
    "\n",
    "print(XOR(0, 0))\n",
    "print(XOR(1, 0))\n",
    "print(XOR(0, 1))\n",
    "print(XOR(1, 1))\n",
    "\n",
    "#이론상 2층의 퍼셉트론만으로도 비선형은 물론 컴퓨터까지도 구현이 가능하다."
   ]
  },
  {
   "cell_type": "code",
   "execution_count": null,
   "metadata": {},
   "outputs": [],
   "source": []
  }
 ],
 "metadata": {
  "kernelspec": {
   "display_name": "Python 2",
   "language": "python",
   "name": "python2"
  },
  "language_info": {
   "codemirror_mode": {
    "name": "ipython",
    "version": 2
   },
   "file_extension": ".py",
   "mimetype": "text/x-python",
   "name": "python",
   "nbconvert_exporter": "python",
   "pygments_lexer": "ipython2",
   "version": "2.7.6"
  }
 },
 "nbformat": 4,
 "nbformat_minor": 0
}
